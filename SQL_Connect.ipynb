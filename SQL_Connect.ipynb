{
 "cells": [
  {
   "cell_type": "code",
   "execution_count": 1,
   "id": "cb639c65-0ec8-4eef-907e-6e2bbdbdd569",
   "metadata": {},
   "outputs": [
    {
     "name": "stdout",
     "output_type": "stream",
     "text": [
      "Successfully connected.\n"
     ]
    }
   ],
   "source": [
    "import mysql.connector as sql\n",
    "con = sql.connect(host = \"localhost\", user = \"root\", password = \"ENG249/94MySQL\", database = \"hostest\")\n",
    "if con.is_connected():\n",
    "    print(\"Successfully connected.\")"
   ]
  },
  {
   "cell_type": "code",
   "execution_count": 2,
   "id": "0a3fbf2d-6896-415f-8e66-bb08b10ecf74",
   "metadata": {},
   "outputs": [
    {
     "name": "stdout",
     "output_type": "stream",
     "text": [
      "(1, 'Ravi', 'M', 32, 'Goitre')\n",
      "(2, 'Rajeev', 'M', 23, 'Cough')\n",
      "(3, 'Sumita', 'F', 45, 'Asthama')\n",
      "Total records retreived:  3\n"
     ]
    }
   ],
   "source": [
    "cur = con.cursor()\n",
    "cur.execute(\"Select * from patient_detail\")\n",
    "data = cur.fetchall()\n",
    "for i in data:\n",
    "    print(i)\n",
    "print(\"Total records retreived: \", cur.rowcount)"
   ]
  },
  {
   "cell_type": "code",
   "execution_count": 3,
   "id": "1cda2f36-2c95-4cd2-9aa5-cbafb715e0ed",
   "metadata": {},
   "outputs": [],
   "source": [
    "con.close()"
   ]
  },
  {
   "cell_type": "code",
   "execution_count": 5,
   "id": "d5d69b71-7efc-4d29-9f86-16b40d68168d",
   "metadata": {},
   "outputs": [],
   "source": [
    "pass"
   ]
  },
  {
   "cell_type": "code",
   "execution_count": null,
   "id": "4784538e-d9ca-4683-b5c2-bee42e0b8cde",
   "metadata": {},
   "outputs": [],
   "source": []
  }
 ],
 "metadata": {
  "kernelspec": {
   "display_name": "Python 3 (ipykernel)",
   "language": "python",
   "name": "python3"
  },
  "language_info": {
   "codemirror_mode": {
    "name": "ipython",
    "version": 3
   },
   "file_extension": ".py",
   "mimetype": "text/x-python",
   "name": "python",
   "nbconvert_exporter": "python",
   "pygments_lexer": "ipython3",
   "version": "3.9.7"
  }
 },
 "nbformat": 4,
 "nbformat_minor": 5
}
