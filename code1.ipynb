{
 "cells": [
  {
   "cell_type": "code",
   "execution_count": 30,
   "metadata": {},
   "outputs": [],
   "source": [
    "from sys import exit"
   ]
  },
  {
   "cell_type": "code",
   "execution_count": 8,
   "metadata": {},
   "outputs": [
    {
     "name": "stdout",
     "output_type": "stream",
     "text": [
      "Successfully connected.\n"
     ]
    }
   ],
   "source": [
    "import mysql.connector as sql\n",
    "con = sql.connect(host = \"localhost\", user = \"root\", password = \"ENG249/94MySQL\", database = \"Project\")\n",
    "if con.is_connected():\n",
    "    print(\"Successfully connected.\")"
   ]
  },
  {
   "cell_type": "code",
   "execution_count": 9,
   "metadata": {},
   "outputs": [],
   "source": [
    "cursor = con.cursor()"
   ]
  },
  {
   "cell_type": "code",
   "execution_count": null,
   "metadata": {},
   "outputs": [],
   "source": []
  },
  {
   "cell_type": "code",
   "execution_count": 5,
   "metadata": {},
   "outputs": [
    {
     "name": "stdout",
     "output_type": "stream",
     "text": [
      "\n",
      "PATIENT REGISTERATION\n",
      "\n"
     ]
    },
    {
     "data": {
      "text/plain": [
       "'Sucessfully Registered!😃😃😄'"
      ]
     },
     "execution_count": 5,
     "metadata": {},
     "output_type": "execute_result"
    }
   ],
   "source": [
    "def patient_register():\n",
    "    print(\"\\nPATIENT REGISTERATION\\n\")\n",
    "    p_name = input(\"Enter Patient's name: \")\n",
    "    p_gender = input(\"Enter patient's gender: \")\n",
    "    p_age = int(input(\"Enter patient's age: \"))\n",
    "    p_ailment = input(\"Enter patient's ailment: \")\n",
    "    p_phone_no = int(input(\"Enter patient's phone number: \"))\n",
    "    p_insert = \"INSERT INTO patient(Name, Gender, Age, Ailment, Phone_Number) Values ('{}', '{}', {}, '{}', {})\".format(p_name, p_gender, p_age, p_ailment, p_phone_no)\n",
    "    cursor.execute(p_insert)\n",
    "    con.commit()\n",
    "    return \"Sucessfully Registered!😃😃😄\"\n",
    "\n",
    "patient_register()"
   ]
  },
  {
   "cell_type": "code",
   "execution_count": 103,
   "metadata": {},
   "outputs": [
    {
     "name": "stdout",
     "output_type": "stream",
     "text": [
      "\n",
      "DOCTOR REGISTERATION\n",
      "\n"
     ]
    },
    {
     "data": {
      "text/plain": [
       "'Sucessfully Registered!😃😃😄'"
      ]
     },
     "execution_count": 103,
     "metadata": {},
     "output_type": "execute_result"
    }
   ],
   "source": [
    "def doctor_register():\n",
    "    print(\"\\nDOCTOR REGISTERATION\\n\")\n",
    "    d_name = input(\"Enter Doctor's name: \")\n",
    "    d_gender = input(\"Enter doctor's gender: \")\n",
    "    d_dept = input(\"Enter doctor's department: \")\n",
    "    d_phone_no = int(input(\"Enter doctor's phone number: \"))\n",
    "    d_email = input(\"Enter doctor's email address: \")\n",
    "    \n",
    "    d_insert = \"INSERT INTO doctor(Name, Gender, Department, Phone_Number, Email_Address) Values ('{}', '{}', '{}', {}, '{}')\".format(d_name, d_gender, d_dept, d_phone_no, d_email)\n",
    "    cursor.execute(d_insert)\n",
    "    con.commit()\n",
    "    return \"Sucessfully Registered!😃😃😄\"\n",
    "\n",
    "doctor_register()"
   ]
  },
  {
   "cell_type": "code",
   "execution_count": null,
   "metadata": {},
   "outputs": [],
   "source": [
    "def worker_register():\n",
    "    print(\"\\nWORKER REGISTERATION\\n\")\n",
    "    w_name = input(\"Enter worker name: \")\n",
    "    w_gender = input(\"Enter worker's gender: \")\n",
    "    w_age = int(input(\"Enter worker's age: \"))\n",
    "    w_worktype = input(\"Enter type of work: \")\n",
    "    w_phone_no = int(input(\"Enter worker's phone number: \"))\n",
    "\n",
    "    w_insert = \"INSERT INTO worker(Name, Gender, Age, WorkType, Phone_Number) VALUES ('{}', '{}', {}, '{}', '{}')\".format(w_name, w_gender, w_age, w_worktype, w_phone_no)\n",
    "    cursor.execute(w_insert)\n",
    "    con.commit()\n",
    "    return \"Sucessfully Registered!😃😃😄\"\n",
    "\n",
    "worker_register()\n",
    "    "
   ]
  },
  {
   "cell_type": "code",
   "execution_count": 98,
   "metadata": {},
   "outputs": [
    {
     "name": "stdout",
     "output_type": "stream",
     "text": [
      "\n",
      "Total patient details: \n",
      "\n"
     ]
    },
    {
     "data": {
      "text/plain": [
       "[(2, 'ALBERT BOOYAH', 'M', 59, 'HYPER FLATUENCE', 123456789),\n",
       " (1, 'Sia', 'F', 12, 'Hand Fracture', 901920349),\n",
       " (3, 'sud', 'M', 13, 'Knee pain', 909090909)]"
      ]
     },
     "execution_count": 98,
     "metadata": {},
     "output_type": "execute_result"
    }
   ],
   "source": [
    "def patient_total():\n",
    "    cursor.execute(\"select * from patient\")\n",
    "    p_total = cursor.fetchall()\n",
    "    print(\"\\nTotal patient details: \\n\")\n",
    "    p_list = []\n",
    "    for row in p_total:\n",
    "        p_list.append(row)\n",
    "    return p_list\n",
    "    \n",
    "\n",
    "patient_total()"
   ]
  },
  {
   "cell_type": "code",
   "execution_count": 4,
   "metadata": {},
   "outputs": [
    {
     "name": "stdout",
     "output_type": "stream",
     "text": [
      "\n",
      "Total doctor details: \n",
      "\n"
     ]
    },
    {
     "data": {
      "text/plain": [
       "[(1, 'q', 'm', 'pip', 9090909, 'justforun@doc.com'),\n",
       " (2, 'Noon', 'M', 'ENT', 909090909, 'noon@noonmail.com')]"
      ]
     },
     "execution_count": 4,
     "metadata": {},
     "output_type": "execute_result"
    }
   ],
   "source": [
    "def doctor_total():\n",
    "    cursor.execute(\"select * from doctor\")\n",
    "    d_total = cursor.fetchall()\n",
    "    print(\"\\nTotal doctor details: \\n\")\n",
    "    d_list = []\n",
    "    for row in d_total:\n",
    "        d_list.append(row)\n",
    "    return d_list\n",
    "\n",
    "doctor_total()"
   ]
  },
  {
   "cell_type": "code",
   "execution_count": 5,
   "metadata": {},
   "outputs": [
    {
     "name": "stdout",
     "output_type": "stream",
     "text": [
      "\n",
      "Total worker details: \n",
      "\n"
     ]
    },
    {
     "data": {
      "text/plain": [
       "[(3, 'Toot', 'F', 56, 'Laundery', 9894435),\n",
       " (1, 'Satish', 'M', 34, 'Catering', 190290345),\n",
       " (4, 'Nancy Arora', 'f', 25, 'nurse', 787000909),\n",
       " (2, 'Situ', 'M', 34, 'House-keepinh', 987565678)]"
      ]
     },
     "execution_count": 5,
     "metadata": {},
     "output_type": "execute_result"
    }
   ],
   "source": [
    "def worker_total():\n",
    "    cursor.execute(\"select * from worker\")\n",
    "    w_total = cursor.fetchall()\n",
    "    print(\"\\nTotal worker details: \\n\")\n",
    "    w_list = []\n",
    "    for row in w_total:\n",
    "        w_list.append(row)\n",
    "    return w_list\n",
    "\n",
    "worker_total()"
   ]
  },
  {
   "cell_type": "code",
   "execution_count": 6,
   "metadata": {},
   "outputs": [
    {
     "ename": "NameError",
     "evalue": "name 'patient_total' is not defined",
     "output_type": "error",
     "traceback": [
      "\u001b[1;31m---------------------------------------------------------------------------\u001b[0m",
      "\u001b[1;31mNameError\u001b[0m                                 Traceback (most recent call last)",
      "\u001b[1;32m~\\AppData\\Local\\Temp/ipykernel_3408/2030076975.py\u001b[0m in \u001b[0;36m<module>\u001b[1;34m\u001b[0m\n\u001b[0;32m     13\u001b[0m \u001b[1;33m\u001b[0m\u001b[0m\n\u001b[0;32m     14\u001b[0m \u001b[1;33m\u001b[0m\u001b[0m\n\u001b[1;32m---> 15\u001b[1;33m \u001b[0mpatient_particular\u001b[0m\u001b[1;33m(\u001b[0m\u001b[1;33m)\u001b[0m\u001b[1;33m\u001b[0m\u001b[1;33m\u001b[0m\u001b[0m\n\u001b[0m",
      "\u001b[1;32m~\\AppData\\Local\\Temp/ipykernel_3408/2030076975.py\u001b[0m in \u001b[0;36mpatient_particular\u001b[1;34m()\u001b[0m\n\u001b[0;32m      1\u001b[0m \u001b[1;32mdef\u001b[0m \u001b[0mpatient_particular\u001b[0m\u001b[1;33m(\u001b[0m\u001b[1;33m)\u001b[0m\u001b[1;33m:\u001b[0m\u001b[1;33m\u001b[0m\u001b[1;33m\u001b[0m\u001b[0m\n\u001b[1;32m----> 2\u001b[1;33m     \u001b[0mp_list\u001b[0m \u001b[1;33m=\u001b[0m \u001b[0mpatient_total\u001b[0m\u001b[1;33m(\u001b[0m\u001b[1;33m)\u001b[0m\u001b[1;33m\u001b[0m\u001b[1;33m\u001b[0m\u001b[0m\n\u001b[0m\u001b[0;32m      3\u001b[0m     \u001b[0mp_desired\u001b[0m \u001b[1;33m=\u001b[0m \u001b[0minput\u001b[0m\u001b[1;33m(\u001b[0m\u001b[1;34m\"Enter the name of the patient whose details you want to view: \"\u001b[0m\u001b[1;33m)\u001b[0m\u001b[1;33m\u001b[0m\u001b[1;33m\u001b[0m\u001b[0m\n\u001b[0;32m      4\u001b[0m     \u001b[0mp_desired_cmd\u001b[0m \u001b[1;33m=\u001b[0m \u001b[1;34m\"select * from patient where Name = ('{}')\"\u001b[0m\u001b[1;33m.\u001b[0m\u001b[0mformat\u001b[0m\u001b[1;33m(\u001b[0m\u001b[0mp_desired\u001b[0m\u001b[1;33m)\u001b[0m\u001b[1;33m\u001b[0m\u001b[1;33m\u001b[0m\u001b[0m\n\u001b[0;32m      5\u001b[0m     \u001b[0mcursor\u001b[0m\u001b[1;33m.\u001b[0m\u001b[0mexecute\u001b[0m\u001b[1;33m(\u001b[0m\u001b[0mp_desired_cmd\u001b[0m\u001b[1;33m)\u001b[0m\u001b[1;33m\u001b[0m\u001b[1;33m\u001b[0m\u001b[0m\n",
      "\u001b[1;31mNameError\u001b[0m: name 'patient_total' is not defined"
     ]
    }
   ],
   "source": [
    "def patient_particular():\n",
    "    p_list = patient_total()\n",
    "    p_desired = input(\"Enter the name of the patient whose details you want to view: \")\n",
    "    p_desired_cmd = \"select * from patient where Name = ('{}')\".format(p_desired)\n",
    "    cursor.execute(p_desired_cmd)\n",
    "    p_data = cursor.fetchall()\n",
    "    for i in p_list:\n",
    "        if i[1] == p_desired:\n",
    "            for row in p_data:\n",
    "                return(row)\n",
    "    else:\n",
    "        return(\"Sorry, patient does not exist.\")\n",
    "    \n",
    "\n",
    "patient_particular()\n"
   ]
  },
  {
   "cell_type": "code",
   "execution_count": 7,
   "metadata": {},
   "outputs": [
    {
     "name": "stdout",
     "output_type": "stream",
     "text": [
      "\n",
      "Total doctor details: \n",
      "\n"
     ]
    },
    {
     "ename": "KeyboardInterrupt",
     "evalue": "Interrupted by user",
     "output_type": "error",
     "traceback": [
      "\u001b[1;31m---------------------------------------------------------------------------\u001b[0m",
      "\u001b[1;31mKeyboardInterrupt\u001b[0m                         Traceback (most recent call last)",
      "\u001b[1;32m~\\AppData\\Local\\Temp/ipykernel_3408/3682620417.py\u001b[0m in \u001b[0;36m<module>\u001b[1;34m\u001b[0m\n\u001b[0;32m     12\u001b[0m         \u001b[1;32mreturn\u001b[0m\u001b[1;33m(\u001b[0m\u001b[1;34m\"Sorry, the Doctor does not exist.\"\u001b[0m\u001b[1;33m)\u001b[0m\u001b[1;33m\u001b[0m\u001b[1;33m\u001b[0m\u001b[0m\n\u001b[0;32m     13\u001b[0m \u001b[1;33m\u001b[0m\u001b[0m\n\u001b[1;32m---> 14\u001b[1;33m \u001b[0mdoctor_particular\u001b[0m\u001b[1;33m(\u001b[0m\u001b[1;33m)\u001b[0m\u001b[1;33m\u001b[0m\u001b[1;33m\u001b[0m\u001b[0m\n\u001b[0m",
      "\u001b[1;32m~\\AppData\\Local\\Temp/ipykernel_3408/3682620417.py\u001b[0m in \u001b[0;36mdoctor_particular\u001b[1;34m()\u001b[0m\n\u001b[0;32m      1\u001b[0m \u001b[1;32mdef\u001b[0m \u001b[0mdoctor_particular\u001b[0m\u001b[1;33m(\u001b[0m\u001b[1;33m)\u001b[0m\u001b[1;33m:\u001b[0m\u001b[1;33m\u001b[0m\u001b[1;33m\u001b[0m\u001b[0m\n\u001b[0;32m      2\u001b[0m     \u001b[0md_list\u001b[0m \u001b[1;33m=\u001b[0m \u001b[0mdoctor_total\u001b[0m\u001b[1;33m(\u001b[0m\u001b[1;33m)\u001b[0m\u001b[1;33m\u001b[0m\u001b[1;33m\u001b[0m\u001b[0m\n\u001b[1;32m----> 3\u001b[1;33m     \u001b[0md_desired\u001b[0m \u001b[1;33m=\u001b[0m \u001b[0minput\u001b[0m\u001b[1;33m(\u001b[0m\u001b[1;34m\"Enter the name of the doctor whose details you want to know:\"\u001b[0m\u001b[1;33m)\u001b[0m\u001b[1;33m\u001b[0m\u001b[1;33m\u001b[0m\u001b[0m\n\u001b[0m\u001b[0;32m      4\u001b[0m     \u001b[0md_desired_cmd\u001b[0m \u001b[1;33m=\u001b[0m \u001b[1;34m\"select * from doctor where Name = ('{}')\"\u001b[0m\u001b[1;33m.\u001b[0m\u001b[0mformat\u001b[0m\u001b[1;33m(\u001b[0m\u001b[0md_desired\u001b[0m\u001b[1;33m)\u001b[0m\u001b[1;33m\u001b[0m\u001b[1;33m\u001b[0m\u001b[0m\n\u001b[0;32m      5\u001b[0m     \u001b[0mcursor\u001b[0m\u001b[1;33m.\u001b[0m\u001b[0mexecute\u001b[0m\u001b[1;33m(\u001b[0m\u001b[0md_desired_cmd\u001b[0m\u001b[1;33m)\u001b[0m\u001b[1;33m\u001b[0m\u001b[1;33m\u001b[0m\u001b[0m\n",
      "\u001b[1;32m~\\AppData\\Local\\Programs\\Python\\Python39\\lib\\site-packages\\ipykernel\\kernelbase.py\u001b[0m in \u001b[0;36mraw_input\u001b[1;34m(self, prompt)\u001b[0m\n\u001b[0;32m    979\u001b[0m                 \u001b[1;34m\"raw_input was called, but this frontend does not support input requests.\"\u001b[0m\u001b[1;33m\u001b[0m\u001b[1;33m\u001b[0m\u001b[0m\n\u001b[0;32m    980\u001b[0m             )\n\u001b[1;32m--> 981\u001b[1;33m         return self._input_request(\n\u001b[0m\u001b[0;32m    982\u001b[0m             \u001b[0mstr\u001b[0m\u001b[1;33m(\u001b[0m\u001b[0mprompt\u001b[0m\u001b[1;33m)\u001b[0m\u001b[1;33m,\u001b[0m\u001b[1;33m\u001b[0m\u001b[1;33m\u001b[0m\u001b[0m\n\u001b[0;32m    983\u001b[0m             \u001b[0mself\u001b[0m\u001b[1;33m.\u001b[0m\u001b[0m_parent_ident\u001b[0m\u001b[1;33m[\u001b[0m\u001b[1;34m\"shell\"\u001b[0m\u001b[1;33m]\u001b[0m\u001b[1;33m,\u001b[0m\u001b[1;33m\u001b[0m\u001b[1;33m\u001b[0m\u001b[0m\n",
      "\u001b[1;32m~\\AppData\\Local\\Programs\\Python\\Python39\\lib\\site-packages\\ipykernel\\kernelbase.py\u001b[0m in \u001b[0;36m_input_request\u001b[1;34m(self, prompt, ident, parent, password)\u001b[0m\n\u001b[0;32m   1024\u001b[0m             \u001b[1;32mexcept\u001b[0m \u001b[0mKeyboardInterrupt\u001b[0m\u001b[1;33m:\u001b[0m\u001b[1;33m\u001b[0m\u001b[1;33m\u001b[0m\u001b[0m\n\u001b[0;32m   1025\u001b[0m                 \u001b[1;31m# re-raise KeyboardInterrupt, to truncate traceback\u001b[0m\u001b[1;33m\u001b[0m\u001b[1;33m\u001b[0m\u001b[0m\n\u001b[1;32m-> 1026\u001b[1;33m                 \u001b[1;32mraise\u001b[0m \u001b[0mKeyboardInterrupt\u001b[0m\u001b[1;33m(\u001b[0m\u001b[1;34m\"Interrupted by user\"\u001b[0m\u001b[1;33m)\u001b[0m \u001b[1;32mfrom\u001b[0m \u001b[1;32mNone\u001b[0m\u001b[1;33m\u001b[0m\u001b[1;33m\u001b[0m\u001b[0m\n\u001b[0m\u001b[0;32m   1027\u001b[0m             \u001b[1;32mexcept\u001b[0m \u001b[0mException\u001b[0m\u001b[1;33m:\u001b[0m\u001b[1;33m\u001b[0m\u001b[1;33m\u001b[0m\u001b[0m\n\u001b[0;32m   1028\u001b[0m                 \u001b[0mself\u001b[0m\u001b[1;33m.\u001b[0m\u001b[0mlog\u001b[0m\u001b[1;33m.\u001b[0m\u001b[0mwarning\u001b[0m\u001b[1;33m(\u001b[0m\u001b[1;34m\"Invalid Message:\"\u001b[0m\u001b[1;33m,\u001b[0m \u001b[0mexc_info\u001b[0m\u001b[1;33m=\u001b[0m\u001b[1;32mTrue\u001b[0m\u001b[1;33m)\u001b[0m\u001b[1;33m\u001b[0m\u001b[1;33m\u001b[0m\u001b[0m\n",
      "\u001b[1;31mKeyboardInterrupt\u001b[0m: Interrupted by user"
     ]
    }
   ],
   "source": [
    "def doctor_particular():\n",
    "    d_list = doctor_total()\n",
    "    d_desired = input(\"Enter the name of the doctor whose details you want to know:\")\n",
    "    d_desired_cmd = \"select * from doctor where Name = ('{}')\".format(d_desired)\n",
    "    cursor.execute(d_desired_cmd)\n",
    "    d_data = cursor.fetchall()\n",
    "    for i in d_list:\n",
    "        if i[1] == d_desired:\n",
    "            for row in d_data:\n",
    "                return(row)\n",
    "    else:\n",
    "        return(\"Sorry, the Doctor does not exist.\")\n",
    "\n",
    "doctor_particular()"
   ]
  },
  {
   "cell_type": "code",
   "execution_count": 111,
   "metadata": {},
   "outputs": [
    {
     "name": "stdout",
     "output_type": "stream",
     "text": [
      "\n",
      "Total worker details: \n",
      "\n"
     ]
    },
    {
     "data": {
      "text/plain": [
       "'Sorry, the Worker does not exist.'"
      ]
     },
     "execution_count": 111,
     "metadata": {},
     "output_type": "execute_result"
    }
   ],
   "source": [
    "def worker_particular():\n",
    "    w_list = worker_total()\n",
    "    w_desired = input(\"Enter the name of the worker whose details you want to know: \")\n",
    "    w_desired_cmd = \"select * from worker where Name = ('{}')\".format(w_desired)\n",
    "    cursor.execute(w_desired_cmd)\n",
    "    w_data = cursor.fetchall()\n",
    "    for i in w_list:\n",
    "        if i[1] == w_desired:\n",
    "            for row in w_data:\n",
    "                return(row)\n",
    "    else:\n",
    "        return(\"Sorry, the Worker does not exist.\") \n",
    "\n",
    "worker_particular()            "
   ]
  },
  {
   "cell_type": "code",
   "execution_count": null,
   "metadata": {},
   "outputs": [],
   "source": [
    "Choose = input(\"1. Login or Sign-up: \")\n",
    "User = input(\"Enter Username: \")"
   ]
  },
  {
   "cell_type": "code",
   "execution_count": 212,
   "metadata": {},
   "outputs": [
    {
     "data": {
      "text/plain": [
       "'No user found with this username!'"
      ]
     },
     "execution_count": 212,
     "metadata": {},
     "output_type": "execute_result"
    }
   ],
   "source": [
    "\n",
    "def login():\n",
    "    count = 0\n",
    "    tries = 0\n",
    "    User = input(\"Enter username: \")\n",
    "    Password = input(\"Enter Password\")\n",
    "    cursor.execute(\"select * from login\")\n",
    "    u_total = cursor.fetchall()\n",
    "    u_list = []\n",
    "    for row in u_total:\n",
    "        u_list.append(row)\n",
    "    for i in u_list:\n",
    "        if i[0] == User:\n",
    "            if i[1] == Password:\n",
    "                print(\"Welcome!\")\n",
    "            elif i[1] != Password: \n",
    "                while i[1] != Password:\n",
    "                        print(\"Wrong Password! Please try again.\")\n",
    "                        Password = input(\"Enter Password: \")\n",
    "                return(\"Welcome!\")\n",
    "            break    \n",
    "    else:\n",
    "        return(\"No user found with this username!\")\n",
    "        \n",
    "\n",
    "\n",
    "def signup(): \n",
    "    signup = input(\"Would you like to sign-up for a new account?...(Yes/No): \")\n",
    "    if signup == \"Yes\":\n",
    "        New_user = input(\"Enter Name: \")\n",
    "        New_Password = input(\"Create Password: \")\n",
    "        New_Password_confm = input(\"Confirm your Password: \")\n",
    "        while New_Password_confm != New_Password:\n",
    "            print(\"Please ReEnter your password again:  \")\n",
    "            New_Password = input(\"Create Password: \")\n",
    "            New_Password_confm = input(\"Confirm your Password: \")\n",
    "    u_signup = \"INSERT INTO login(User, Password) Values ('{}', '{}')\".format(New_user, New_Password)\n",
    "    cursor.execute(u_signup)\n",
    "    con.commit()\n",
    "    print(\"Sucessfully Registered!🔒\")\n",
    "    return(\"Welcome!\")\n",
    "\n",
    "\n",
    "login()\n",
    "#signup()"
   ]
  },
  {
   "cell_type": "code",
   "execution_count": null,
   "metadata": {},
   "outputs": [],
   "source": [
    "def login():\n",
    "    print(\"\\n\\n\\t\\tExisting User Login\")\n",
    "    User = input(\"\\nEnter username: \")\n",
    "    Password = input(\"\\nEnter Password: \")\n",
    "    cursor.execute(\"select * from login\")\n",
    "    u_total = cursor.fetchall()\n",
    "    u_list = []\n",
    "    for row in u_total:\n",
    "        u_list.append(row)\n",
    "    for i in u_list:\n",
    "        if i[0] == User:\n",
    "            if i[1] == Password:\n",
    "                return(\"\\nWelcome!\\n\")\n",
    "            elif i[1] != Password: \n",
    "                while i[1] != Password:\n",
    "                        print(\"Wrong Password! Please try again.\\n\")\n",
    "                        Password = input(\"Enter Password: \")\n",
    "                return(\"\\nWelcome!\\n\")\n",
    "            break\n",
    "    else:\n",
    "        print(\"\\nNo user found with this username!\")\n",
    "        return signup()\n",
    "\n",
    "\n"
   ]
  },
  {
   "cell_type": "code",
   "execution_count": 13,
   "metadata": {},
   "outputs": [
    {
     "name": "stdout",
     "output_type": "stream",
     "text": [
      "\n",
      "No user found with this username!\n",
      "\n",
      "\t\tNew User Sign-up\n",
      "\n",
      "\n",
      "Please ReEnter your password again:  \n",
      "\n",
      "Sucessfully Registered!🔒\n"
     ]
    },
    {
     "data": {
      "text/plain": [
       "'Welcome!'"
      ]
     },
     "execution_count": 13,
     "metadata": {},
     "output_type": "execute_result"
    }
   ],
   "source": [
    "def signup(): \n",
    "    signchoice = input(\"\\nWould you like to sign-up for a new account?...(Yes/No): \")\n",
    "    if signchoice == \"Yes\" or signchoice == \"YES\" or signchoice == \"yes\":\n",
    "        print(\"\\n\\t\\tNew User Sign-up\\n\")\n",
    "        New_user = input(\"\\nEnter Name: \")\n",
    "        New_Password = input(\"\\nCreate Password: \")\n",
    "        New_Password_confm = input(\"Confirm your Password: \")\n",
    "        while New_Password_confm != New_Password:\n",
    "            print(\"\\nPlease ReEnter your password again:  \")\n",
    "            New_Password = input(\"Create Password: \")\n",
    "            New_Password_confm = input(\"Confirm your Password: \")\n",
    "        u_signup = \"INSERT INTO login(User, Password) Values ('{}', '{}')\".format(New_user, New_Password)\n",
    "        cursor.execute(u_signup)\n",
    "        con.commit()\n",
    "        print(\"\\nSucessfully Registered!🔒\")\n",
    "        return(\"Welcome!\")       \n",
    "    else:\n",
    "        print(\"\\n\\t\\tThanks for visiting!\\n\")\n",
    "        return(exit()) \n",
    "def cred_check():\n",
    "    u_old = input(\"\\nEnter old username: \")\n",
    "    passwd_old = input(\"\\nEnter old password: \")\n",
    "    \n",
    "    cursor.execute(\"select * from login\")\n",
    "    u_total = cursor.fetchall()\n",
    "    u_list = []\n",
    "    for row in u_total:\n",
    "        u_list.append(row)\n",
    "    for i in u_list:\n",
    "        if i[0] == u_old:\n",
    "            if i[1] == passwd_old:\n",
    "                return(update_credentials(u_old))\n",
    "            elif i[1] != passwd_old: \n",
    "                    while i[1] != passwd_old:\n",
    "                            print(\"Wrong Password! Please try again.\\n\")\n",
    "                            passwd_old = input(\"Enter Password: \")\n",
    "                    return (update_credentials(u_old))\n",
    "            break\n",
    "    else:\n",
    "        print(\"\\nNo user found with this username!\")\n",
    "        return signup()\n",
    " \n",
    "def update_credentials(u_old): \n",
    "    u_update = input(\"\\nEnter new Username: \")\n",
    "    passwd_update = input(\"Enter new Password: \")\n",
    "    passwd_update_cnfm = input(\"Confirm Password: \")\n",
    "    while passwd_update_cnfm != passwd_update:\n",
    "            print(\"\\nPlease ReEnter your password again:  \")\n",
    "            passwd_update = input(\"Enter new Password: \")\n",
    "            passwd_update_cnfm = input(\"Confirm Password: \")\n",
    "    update_cmd = (\"UPDATE login SET User = ('{}'), Password = ('{}') where User = ('{}')\".format(u_update, passwd_update, u_old))\n",
    "    cursor.execute(update_cmd)\n",
    "    con.commit()\n",
    "    \n",
    "cred_check()   \n"
   ]
  },
  {
   "cell_type": "code",
   "execution_count": null,
   "metadata": {},
   "outputs": [],
   "source": [
    "def update_credentials(u_old): \n",
    "    u_update = input(\"\\nEnter new Username: \")\n",
    "    passwd_update = input(\"Enter new Password: \")\n",
    "    passwd_update_cnfm = input(\"Confirm Password: \")\n",
    "    while passwd_update_cnfm != passwd_update:\n",
    "            print(\"\\nPlease ReEnter your password again:  \")\n",
    "            passwd_update = input(\"Enter new Password: \")\n",
    "            passwd_update_cnfm = input(\"Confirm Password: \")\n",
    "    update_cmd = (\"UPDATE login SET User = ('{}'), Password = ('{}') where Name = ('{}')\".format(u_update, passwd_update, u_old))\n",
    "    cursor.execute(update_cmd)\n",
    "    con.commit()\n",
    "    \n"
   ]
  },
  {
   "cell_type": "code",
   "execution_count": 38,
   "metadata": {},
   "outputs": [
    {
     "data": {
      "text/plain": [
       "\"Succesfully Updated Patient's Current Status!\""
      ]
     },
     "execution_count": 38,
     "metadata": {},
     "output_type": "execute_result"
    }
   ],
   "source": [
    "def patient_update():\n",
    "    p_name = input(\"\\nEnter the name of the patient whose record you want to update: \")\n",
    "    cursor.execute(\"select * from patient\")\n",
    "    p_total = cursor.fetchall()\n",
    "    p_list = []\n",
    "    for row in p_total:\n",
    "        p_list.append(row)\n",
    "    for i in p_list:\n",
    "        if i[1] == p_name:\n",
    "            p_status = input(\"\\nEnter the patient's current status: \")\n",
    "            p_cmd = (\"UPDATE patient SET Current_Status = ('{}') where Name = ('{}')\".format(p_status, p_name))\n",
    "            cursor.execute(p_cmd)\n",
    "            con.commit()\n",
    "            return(\"Succesfully Updated Patient's Current Status!\")\n",
    "    else:\n",
    "        return(\"No Patient with this name exists.\")\n",
    "\n",
    "patient_update()\n",
    "        "
   ]
  },
  {
   "cell_type": "code",
   "execution_count": null,
   "metadata": {},
   "outputs": [],
   "source": []
  },
  {
   "cell_type": "code",
   "execution_count": 50,
   "metadata": {},
   "outputs": [
    {
     "name": "stdout",
     "output_type": "stream",
     "text": [
      "Wrong Password! Please try again.\n",
      "Wrong Password! Please try again.\n",
      "Wrong Password! Please try again.\n",
      "Wrong Password! Please try again.\n",
      "Wrong Password! Please try again.\n",
      "\n",
      "You have entered your password incorrect 5 times. Please wait 5 seconds to enter password again.\n",
      "\n",
      "Wrong Password! Please try again.\n",
      "Wrong Password! Please try again.\n",
      "Wrong Password! Please try again.\n"
     ]
    },
    {
     "data": {
      "text/plain": [
       "'Wecome!'"
      ]
     },
     "execution_count": 50,
     "metadata": {},
     "output_type": "execute_result"
    }
   ],
   "source": [
    "import time\n",
    "def login():\n",
    "    count = 0\n",
    "    tries = 0\n",
    "    User = input(\"Enter username: \")\n",
    "    Password = input(\"Enter Password\")\n",
    "    cursor.execute(\"select * from login\")\n",
    "    u_total = cursor.fetchall()\n",
    "    u_list = []\n",
    "    for row in u_total:\n",
    "        u_list.append(row)\n",
    "    for i in u_list:\n",
    "        if i[0] == User:\n",
    "            if i[1] == Password:\n",
    "                print(\"Welcome!\")  #Username & Password found correct \n",
    "            elif i[1] != Password:  #Username is correct but Password is incorrect\n",
    "                print(\"Wrong Password! Please try again.\")\n",
    "                for j in range(3):  #Three trials berfore exiting the system    \n",
    "                    while count <= 3: #Five chances to enter correct password\n",
    "                        Password = input(\"Enter Password: \")\n",
    "                        if i[1] == Password:  #Password found correct\n",
    "                            return(\"Wecome!\")  #Exits the fuction login()\n",
    "                        print(\"Wrong Password! Please try again.\")\n",
    "                        count += 1\n",
    "                    if j == 2:  #Condition for exiting the system\n",
    "                        break\n",
    "                    print(\"\\nYou have entered your password incorrect 5 times. Please wait 60 seconds to enter password again.\\n\")\n",
    "                    time.sleep(60)  #Waits the user for 60 seconds before entering password again \n",
    "                    count = 0  #Sets count value back to zero\n",
    "                print(\"\\nYou have entered wrong password multiple times. Try Again later!\\n\")\n",
    "                exit  #Exits the system\n",
    "            break  #Breaks the loop when Username & Password found correct  \n",
    "    else:  #If Username is incorrect or not in the database\n",
    "        return(\"No user found with this username!\")\n",
    "        \n",
    "login()"
   ]
  },
  {
   "cell_type": "code",
   "execution_count": null,
   "metadata": {},
   "outputs": [],
   "source": []
  },
  {
   "cell_type": "code",
   "execution_count": null,
   "metadata": {},
   "outputs": [],
   "source": []
  },
  {
   "cell_type": "code",
   "execution_count": null,
   "metadata": {},
   "outputs": [],
   "source": []
  },
  {
   "cell_type": "code",
   "execution_count": null,
   "metadata": {},
   "outputs": [],
   "source": []
  },
  {
   "cell_type": "code",
   "execution_count": null,
   "metadata": {},
   "outputs": [],
   "source": []
  },
  {
   "cell_type": "code",
   "execution_count": null,
   "metadata": {},
   "outputs": [],
   "source": []
  },
  {
   "cell_type": "code",
   "execution_count": 33,
   "metadata": {},
   "outputs": [],
   "source": [
    "con.close()"
   ]
  },
  {
   "cell_type": "code",
   "execution_count": null,
   "metadata": {},
   "outputs": [],
   "source": []
  }
 ],
 "metadata": {
  "interpreter": {
   "hash": "cc85f861332ecd4c033c53b36abbf0fba21ba78c31117f1d4263aa4b666bde71"
  },
  "kernelspec": {
   "display_name": "Python 3.9.7 64-bit",
   "language": "python",
   "name": "python3"
  },
  "language_info": {
   "codemirror_mode": {
    "name": "ipython",
    "version": 3
   },
   "file_extension": ".py",
   "mimetype": "text/x-python",
   "name": "python",
   "nbconvert_exporter": "python",
   "pygments_lexer": "ipython3",
   "version": "3.9.7"
  },
  "orig_nbformat": 4
 },
 "nbformat": 4,
 "nbformat_minor": 2
}
